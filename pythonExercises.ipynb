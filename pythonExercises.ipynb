{
 "cells": [
  {
   "cell_type": "code",
   "execution_count": 68,
   "metadata": {},
   "outputs": [],
   "source": [
    "class Calcolatrice(object):\n",
    "    \n",
    "    def __init__(self):\n",
    "        self.database = []\n",
    "    \n",
    "    def sum(self, n, m):\n",
    "        result = n + m\n",
    "        self.database.append(result)\n",
    "        return 'RESULT: {}'.format(result)\n",
    "    \n",
    "    def sot(self, n, m):\n",
    "        result = n - m\n",
    "        self.database.append(result)\n",
    "        return 'RESULT: {}'.format(result)\n",
    "    \n",
    "    def mult(self, n, m):\n",
    "        result = n * m\n",
    "        self.database.append(result)\n",
    "        return 'RESULT: {}'.format(result)\n",
    "    \n",
    "    def div(self, n, m):\n",
    "        result = n / m\n",
    "        self.database.append(result)\n",
    "        return 'RESULT: {}'.format(result)\n",
    "    \n"
   ]
  },
  {
   "cell_type": "code",
   "execution_count": 69,
   "metadata": {
    "collapsed": true
   },
   "outputs": [],
   "source": [
    "c = Calcolatrice()\n"
   ]
  },
  {
   "cell_type": "code",
   "execution_count": 70,
   "metadata": {},
   "outputs": [
    {
     "data": {
      "text/plain": [
       "'RESULT: 54348'"
      ]
     },
     "execution_count": 70,
     "metadata": {},
     "output_type": "execute_result"
    }
   ],
   "source": [
    "c.sum(2,5)\n",
    "c.mult(2456,5234)\n",
    "c.sot(22222,534)\n",
    "c.sum(24,54324)\n"
   ]
  },
  {
   "cell_type": "code",
   "execution_count": 71,
   "metadata": {},
   "outputs": [
    {
     "data": {
      "text/plain": [
       "[7, 12854704, 21688, 54348]"
      ]
     },
     "execution_count": 71,
     "metadata": {},
     "output_type": "execute_result"
    }
   ],
   "source": [
    "c.database\n"
   ]
  },
  {
   "cell_type": "code",
   "execution_count": null,
   "metadata": {
    "collapsed": true
   },
   "outputs": [],
   "source": []
  },
  {
   "cell_type": "code",
   "execution_count": 72,
   "metadata": {},
   "outputs": [
    {
     "data": {
      "text/plain": [
       "['__class__',\n",
       " '__delattr__',\n",
       " '__dict__',\n",
       " '__doc__',\n",
       " '__format__',\n",
       " '__getattribute__',\n",
       " '__hash__',\n",
       " '__init__',\n",
       " '__module__',\n",
       " '__new__',\n",
       " '__reduce__',\n",
       " '__reduce_ex__',\n",
       " '__repr__',\n",
       " '__setattr__',\n",
       " '__sizeof__',\n",
       " '__str__',\n",
       " '__subclasshook__',\n",
       " '__weakref__',\n",
       " 'database',\n",
       " 'div',\n",
       " 'mult',\n",
       " 'sot',\n",
       " 'sum']"
      ]
     },
     "execution_count": 72,
     "metadata": {},
     "output_type": "execute_result"
    }
   ],
   "source": [
    "type(c)\n",
    "dir(c)"
   ]
  },
  {
   "cell_type": "code",
   "execution_count": 115,
   "metadata": {
    "collapsed": true
   },
   "outputs": [],
   "source": [
    "def login(user, pwd):\n",
    "    db = {\n",
    "        'username': 'mauridb'.__hash__(),\n",
    "        'password': 'ciao1234'.__hash__()\n",
    "    }\n",
    "    if db['username'] == user.__hash__() and db['password'] == pwd.__hash__():\n",
    "        print 'you are logging in correctly'\n",
    "    else:\n",
    "        print 'Please try again'\n",
    "    "
   ]
  },
  {
   "cell_type": "code",
   "execution_count": 116,
   "metadata": {},
   "outputs": [
    {
     "name": "stdout",
     "output_type": "stream",
     "text": [
      "ciao\n",
      "dodo\n",
      "Please try again\n"
     ]
    }
   ],
   "source": [
    "# dir('ciao')\n",
    "username = \"mauridb\".__hash__()\n",
    "password = \"ciao1234\".__hash__()\n",
    "\n",
    "login(raw_input(),raw_input())"
   ]
  },
  {
   "cell_type": "code",
   "execution_count": 73,
   "metadata": {},
   "outputs": [
    {
     "name": "stdout",
     "output_type": "stream",
     "text": [
      "catch index error!\n"
     ]
    }
   ],
   "source": [
    "string = 'domani'\n",
    "\n",
    "\n",
    "def try_except_everything(txt):\n",
    "    alert = \"\"\n",
    "    try:\n",
    "        string[100000]\n",
    "    except IndexError:\n",
    "        alert = 'catch index error!'\n",
    "    return alert\n",
    "\n",
    "print try_except_everything(string)\n"
   ]
  }
 ],
 "metadata": {
  "kernelspec": {
   "display_name": "Python 2",
   "language": "python",
   "name": "python2"
  },
  "language_info": {
   "codemirror_mode": {
    "name": "ipython",
    "version": 2
   },
   "file_extension": ".py",
   "mimetype": "text/x-python",
   "name": "python",
   "nbconvert_exporter": "python",
   "pygments_lexer": "ipython2",
   "version": "2.7.12"
  }
 },
 "nbformat": 4,
 "nbformat_minor": 2
}
